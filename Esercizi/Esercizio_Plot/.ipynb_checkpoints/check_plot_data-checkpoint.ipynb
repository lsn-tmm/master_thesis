{
 "cells": [
  {
   "cell_type": "code",
   "execution_count": 1,
   "id": "12fcb904",
   "metadata": {},
   "outputs": [
    {
     "name": "stdout",
     "output_type": "stream",
     "text": [
      "['sto-6g', '6-31g', '6-31++g', '6-31g**', '6-31++g**', 'cc-pvdz', 'cc-pvtz', 'cc-pvqz', 'aug-cc-pvdz', 'aug-cc-pvtz'] [-0.29914889 -0.04853639 -0.00299817 -0.05089765 -0.00413485 -0.05727664\n",
      " -0.02954434 -0.01740913 -0.00242526 -0.00295652]\n"
     ]
    }
   ],
   "source": [
    "import numpy as np\n",
    "import matplotlib.pyplot as plt\n",
    "\n",
    "res = {}\n",
    "res['basis'] = ['sto-6g','6-31g','6-31++g','6-31g**','6-31++g**','cc-pvdz','cc-pvtz','cc-pvqz','aug-cc-pvdz','aug-cc-pvtz']\n",
    "res['E_HF'] = []\n",
    "res['E_MP'] = []\n",
    "res['E_CISD'] = []\n",
    "res['E_CCSD'] = []\n",
    "res['E_CCSD(T)'] = []\n",
    "res['E_CASCI'] = []\n",
    "res['E_CASSCF'] = []\n",
    "    \n",
    "data = np.load('oh_data.npy', allow_pickle=True).item()\n",
    "iao_data = np.load('iao_oh_data.npy', allow_pickle=True).item()"
   ]
  },
  {
   "cell_type": "code",
   "execution_count": null,
   "id": "31488f7f",
   "metadata": {},
   "outputs": [],
   "source": []
  }
 ],
 "metadata": {
  "kernelspec": {
   "display_name": "Python 3 (ipykernel)",
   "language": "python",
   "name": "python3"
  },
  "language_info": {
   "codemirror_mode": {
    "name": "ipython",
    "version": 3
   },
   "file_extension": ".py",
   "mimetype": "text/x-python",
   "name": "python",
   "nbconvert_exporter": "python",
   "pygments_lexer": "ipython3",
   "version": "3.9.5"
  }
 },
 "nbformat": 4,
 "nbformat_minor": 5
}
